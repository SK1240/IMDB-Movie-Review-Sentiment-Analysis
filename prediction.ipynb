{
 "cells": [
  {
   "cell_type": "code",
   "execution_count": 1,
   "id": "88793459",
   "metadata": {},
   "outputs": [],
   "source": [
    "# Step 1: Import Libraries and Load the Model\n",
    "import numpy as np\n",
    "import tensorflow as tf\n",
    "from tensorflow.keras.datasets import imdb\n",
    "from tensorflow.keras.preprocessing import sequence\n",
    "from tensorflow.keras.models import load_model"
   ]
  },
  {
   "cell_type": "code",
   "execution_count": 2,
   "id": "2bd19c42",
   "metadata": {},
   "outputs": [],
   "source": [
    "\n",
    "# Load the IMDB dataset word index\n",
    "word_index = imdb.get_word_index()\n",
    "reverse_word_index = {value: key for key, value in word_index.items()}"
   ]
  },
  {
   "cell_type": "code",
   "execution_count": 4,
   "id": "3452b118",
   "metadata": {},
   "outputs": [
    {
     "name": "stderr",
     "output_type": "stream",
     "text": [
      "WARNING:absl:Compiled the loaded model, but the compiled metrics have yet to be built. `model.compile_metrics` will be empty until you train or evaluate the model.\n"
     ]
    },
    {
     "data": {
      "text/html": [
       "<pre style=\"white-space:pre;overflow-x:auto;line-height:normal;font-family:Menlo,'DejaVu Sans Mono',consolas,'Courier New',monospace\"><span style=\"font-weight: bold\">Model: \"sequential\"</span>\n",
       "</pre>\n"
      ],
      "text/plain": [
       "\u001b[1mModel: \"sequential\"\u001b[0m\n"
      ]
     },
     "metadata": {},
     "output_type": "display_data"
    },
    {
     "data": {
      "text/html": [
       "<pre style=\"white-space:pre;overflow-x:auto;line-height:normal;font-family:Menlo,'DejaVu Sans Mono',consolas,'Courier New',monospace\">┏━━━━━━━━━━━━━━━━━━━━━━━━━━━━━━━━━┳━━━━━━━━━━━━━━━━━━━━━━━━┳━━━━━━━━━━━━━━━┓\n",
       "┃<span style=\"font-weight: bold\"> Layer (type)                    </span>┃<span style=\"font-weight: bold\"> Output Shape           </span>┃<span style=\"font-weight: bold\">       Param # </span>┃\n",
       "┡━━━━━━━━━━━━━━━━━━━━━━━━━━━━━━━━━╇━━━━━━━━━━━━━━━━━━━━━━━━╇━━━━━━━━━━━━━━━┩\n",
       "│ embedding (<span style=\"color: #0087ff; text-decoration-color: #0087ff\">Embedding</span>)           │ (<span style=\"color: #00af00; text-decoration-color: #00af00\">32</span>, <span style=\"color: #00af00; text-decoration-color: #00af00\">500</span>, <span style=\"color: #00af00; text-decoration-color: #00af00\">128</span>)         │     <span style=\"color: #00af00; text-decoration-color: #00af00\">1,280,000</span> │\n",
       "├─────────────────────────────────┼────────────────────────┼───────────────┤\n",
       "│ simple_rnn (<span style=\"color: #0087ff; text-decoration-color: #0087ff\">SimpleRNN</span>)          │ (<span style=\"color: #00af00; text-decoration-color: #00af00\">32</span>, <span style=\"color: #00af00; text-decoration-color: #00af00\">128</span>)              │        <span style=\"color: #00af00; text-decoration-color: #00af00\">32,896</span> │\n",
       "├─────────────────────────────────┼────────────────────────┼───────────────┤\n",
       "│ dense (<span style=\"color: #0087ff; text-decoration-color: #0087ff\">Dense</span>)                   │ (<span style=\"color: #00af00; text-decoration-color: #00af00\">32</span>, <span style=\"color: #00af00; text-decoration-color: #00af00\">1</span>)                │           <span style=\"color: #00af00; text-decoration-color: #00af00\">129</span> │\n",
       "└─────────────────────────────────┴────────────────────────┴───────────────┘\n",
       "</pre>\n"
      ],
      "text/plain": [
       "┏━━━━━━━━━━━━━━━━━━━━━━━━━━━━━━━━━┳━━━━━━━━━━━━━━━━━━━━━━━━┳━━━━━━━━━━━━━━━┓\n",
       "┃\u001b[1m \u001b[0m\u001b[1mLayer (type)                   \u001b[0m\u001b[1m \u001b[0m┃\u001b[1m \u001b[0m\u001b[1mOutput Shape          \u001b[0m\u001b[1m \u001b[0m┃\u001b[1m \u001b[0m\u001b[1m      Param #\u001b[0m\u001b[1m \u001b[0m┃\n",
       "┡━━━━━━━━━━━━━━━━━━━━━━━━━━━━━━━━━╇━━━━━━━━━━━━━━━━━━━━━━━━╇━━━━━━━━━━━━━━━┩\n",
       "│ embedding (\u001b[38;5;33mEmbedding\u001b[0m)           │ (\u001b[38;5;34m32\u001b[0m, \u001b[38;5;34m500\u001b[0m, \u001b[38;5;34m128\u001b[0m)         │     \u001b[38;5;34m1,280,000\u001b[0m │\n",
       "├─────────────────────────────────┼────────────────────────┼───────────────┤\n",
       "│ simple_rnn (\u001b[38;5;33mSimpleRNN\u001b[0m)          │ (\u001b[38;5;34m32\u001b[0m, \u001b[38;5;34m128\u001b[0m)              │        \u001b[38;5;34m32,896\u001b[0m │\n",
       "├─────────────────────────────────┼────────────────────────┼───────────────┤\n",
       "│ dense (\u001b[38;5;33mDense\u001b[0m)                   │ (\u001b[38;5;34m32\u001b[0m, \u001b[38;5;34m1\u001b[0m)                │           \u001b[38;5;34m129\u001b[0m │\n",
       "└─────────────────────────────────┴────────────────────────┴───────────────┘\n"
      ]
     },
     "metadata": {},
     "output_type": "display_data"
    },
    {
     "data": {
      "text/html": [
       "<pre style=\"white-space:pre;overflow-x:auto;line-height:normal;font-family:Menlo,'DejaVu Sans Mono',consolas,'Courier New',monospace\"><span style=\"font-weight: bold\"> Total params: </span><span style=\"color: #00af00; text-decoration-color: #00af00\">1,313,027</span> (5.01 MB)\n",
       "</pre>\n"
      ],
      "text/plain": [
       "\u001b[1m Total params: \u001b[0m\u001b[38;5;34m1,313,027\u001b[0m (5.01 MB)\n"
      ]
     },
     "metadata": {},
     "output_type": "display_data"
    },
    {
     "data": {
      "text/html": [
       "<pre style=\"white-space:pre;overflow-x:auto;line-height:normal;font-family:Menlo,'DejaVu Sans Mono',consolas,'Courier New',monospace\"><span style=\"font-weight: bold\"> Trainable params: </span><span style=\"color: #00af00; text-decoration-color: #00af00\">1,313,025</span> (5.01 MB)\n",
       "</pre>\n"
      ],
      "text/plain": [
       "\u001b[1m Trainable params: \u001b[0m\u001b[38;5;34m1,313,025\u001b[0m (5.01 MB)\n"
      ]
     },
     "metadata": {},
     "output_type": "display_data"
    },
    {
     "data": {
      "text/html": [
       "<pre style=\"white-space:pre;overflow-x:auto;line-height:normal;font-family:Menlo,'DejaVu Sans Mono',consolas,'Courier New',monospace\"><span style=\"font-weight: bold\"> Non-trainable params: </span><span style=\"color: #00af00; text-decoration-color: #00af00\">0</span> (0.00 B)\n",
       "</pre>\n"
      ],
      "text/plain": [
       "\u001b[1m Non-trainable params: \u001b[0m\u001b[38;5;34m0\u001b[0m (0.00 B)\n"
      ]
     },
     "metadata": {},
     "output_type": "display_data"
    },
    {
     "data": {
      "text/html": [
       "<pre style=\"white-space:pre;overflow-x:auto;line-height:normal;font-family:Menlo,'DejaVu Sans Mono',consolas,'Courier New',monospace\"><span style=\"font-weight: bold\"> Optimizer params: </span><span style=\"color: #00af00; text-decoration-color: #00af00\">2</span> (12.00 B)\n",
       "</pre>\n"
      ],
      "text/plain": [
       "\u001b[1m Optimizer params: \u001b[0m\u001b[38;5;34m2\u001b[0m (12.00 B)\n"
      ]
     },
     "metadata": {},
     "output_type": "display_data"
    }
   ],
   "source": [
    "# Load the pre-trained model with ReLU activation\n",
    "model = load_model('model.h5')\n",
    "model.summary()"
   ]
  },
  {
   "cell_type": "code",
   "execution_count": 5,
   "id": "90a9746c",
   "metadata": {},
   "outputs": [
    {
     "data": {
      "text/plain": [
       "[array([[-0.08242665,  0.14904763, -0.45217258, ...,  0.00553873,\n",
       "         -0.03436496,  0.06505069],\n",
       "        [ 0.02012485,  0.04031679,  0.0154957 , ..., -0.03037961,\n",
       "         -0.06839133,  0.00719564],\n",
       "        [ 0.00582156,  0.12128482, -0.00729692, ...,  0.00828537,\n",
       "          0.00168738,  0.03259982],\n",
       "        ...,\n",
       "        [-0.0356796 ,  0.06772195,  0.12313976, ...,  0.02049734,\n",
       "         -0.08472849,  0.01527822],\n",
       "        [ 0.05177036,  0.09422839, -0.0941252 , ..., -0.01440654,\n",
       "          0.08050095, -0.12183932],\n",
       "        [-0.06108057,  0.09967073,  0.05289462, ..., -0.08491329,\n",
       "         -0.12009601, -0.07321699]], shape=(10000, 128), dtype=float32),\n",
       " array([[ 0.100168  ,  0.12479971,  0.01827308, ...,  0.02839121,\n",
       "         -0.11729871, -0.03342056],\n",
       "        [-0.11322112,  0.08126441, -0.17029905, ..., -0.00225781,\n",
       "          0.0443917 ,  0.01936897],\n",
       "        [ 0.21266761, -0.03637542,  0.02245653, ..., -0.04375361,\n",
       "         -0.0249892 , -0.11140136],\n",
       "        ...,\n",
       "        [ 0.03425289,  0.10795378,  0.10849028, ...,  0.03075985,\n",
       "          0.03988143, -0.00686136],\n",
       "        [-0.1118425 , -0.01972565, -0.02280238, ..., -0.05227413,\n",
       "          0.00838799,  0.12585604],\n",
       "        [-0.07459149,  0.03089062,  0.02481709, ...,  0.08079834,\n",
       "         -0.11743631,  0.02557623]], shape=(128, 128), dtype=float32),\n",
       " array([[-0.1286453 , -0.08148304, -0.0719114 , ..., -0.08879569,\n",
       "         -0.18282217, -0.10305741],\n",
       "        [ 0.04440229, -0.01444643, -0.16946667, ...,  0.09289563,\n",
       "          0.09919271, -0.12850437],\n",
       "        [-0.12194944, -0.09437618,  0.06790663, ..., -0.05887109,\n",
       "         -0.0983702 ,  0.06113689],\n",
       "        ...,\n",
       "        [ 0.08661643, -0.05258728, -0.02126937, ..., -0.13310605,\n",
       "         -0.02864389, -0.03401154],\n",
       "        [-0.08512274,  0.06306596,  0.03024608, ..., -0.05174676,\n",
       "          0.12217207,  0.09171633],\n",
       "        [-0.24171716,  0.01681411,  0.1585919 , ...,  0.00510982,\n",
       "          0.11967013, -0.00692216]], shape=(128, 128), dtype=float32),\n",
       " array([-0.02797638,  0.00628394, -0.03301617, -0.01737067,  0.02480167,\n",
       "        -0.01959884,  0.03397825,  0.04970792,  0.00747262,  0.04944994,\n",
       "         0.02771335, -0.00924041,  0.01694074,  0.01870864, -0.01972854,\n",
       "         0.00572614, -0.01784893, -0.04040701, -0.0082197 , -0.02850729,\n",
       "        -0.03684178, -0.00924009, -0.00633507, -0.05731034,  0.01573159,\n",
       "         0.01330996, -0.03110497,  0.04885146, -0.02355355, -0.01950591,\n",
       "        -0.01015246, -0.04261441, -0.03451894,  0.01210846, -0.01528054,\n",
       "         0.02711408,  0.04301114,  0.01340417, -0.087813  , -0.0836883 ,\n",
       "        -0.0168797 ,  0.04482461, -0.03688458, -0.05309724,  0.02288493,\n",
       "        -0.0325685 , -0.01873386,  0.01551151, -0.0237229 , -0.01376903,\n",
       "         0.0462417 , -0.05532   ,  0.01793485, -0.00332574, -0.03932807,\n",
       "         0.01018639,  0.03695026, -0.00780529,  0.03712508, -0.01630754,\n",
       "         0.03227353,  0.06424251,  0.05462109,  0.02144925,  0.03837277,\n",
       "         0.01438618, -0.04128223,  0.04353539, -0.0220165 , -0.01002146,\n",
       "         0.00407827,  0.00321286,  0.00370105,  0.00014859, -0.01434807,\n",
       "        -0.06921801,  0.00482473,  0.0095646 , -0.04482305, -0.01180056,\n",
       "        -0.03824155, -0.0206901 , -0.01130229,  0.03543112,  0.01800925,\n",
       "         0.00157777,  0.03409831, -0.04289251, -0.03216177, -0.00359532,\n",
       "         0.05565156,  0.0057463 , -0.00063323,  0.00072168,  0.05287549,\n",
       "         0.04305178, -0.04450943, -0.03053174,  0.00260653, -0.00249504,\n",
       "        -0.00624422, -0.0458139 , -0.00917593,  0.02252614,  0.01940698,\n",
       "        -0.05132118,  0.00075536, -0.01908734, -0.03309871,  0.01030071,\n",
       "        -0.03806585,  0.00301171, -0.05200443, -0.0631521 ,  0.02510962,\n",
       "        -0.01553913, -0.01108221, -0.01062302, -0.03228428, -0.02400237,\n",
       "        -0.01994175, -0.00663063, -0.00943115,  0.01291025, -0.01458688,\n",
       "        -0.00495994, -0.01582535, -0.04008805], dtype=float32),\n",
       " array([[-0.11226933],\n",
       "        [ 0.16732875],\n",
       "        [-0.03832895],\n",
       "        [-0.1045493 ],\n",
       "        [-0.05518105],\n",
       "        [ 0.06427203],\n",
       "        [-0.24377926],\n",
       "        [ 0.20214416],\n",
       "        [ 0.11609363],\n",
       "        [ 0.1087843 ],\n",
       "        [-0.14892733],\n",
       "        [ 0.0509483 ],\n",
       "        [-0.25542697],\n",
       "        [ 0.16630137],\n",
       "        [ 0.02710976],\n",
       "        [ 0.07687058],\n",
       "        [ 0.08147879],\n",
       "        [-0.18763474],\n",
       "        [ 0.10105289],\n",
       "        [ 0.05287461],\n",
       "        [-0.192137  ],\n",
       "        [-0.15371245],\n",
       "        [ 0.17770739],\n",
       "        [ 0.2552295 ],\n",
       "        [-0.09156682],\n",
       "        [ 0.20021023],\n",
       "        [ 0.6067562 ],\n",
       "        [ 0.003098  ],\n",
       "        [ 0.16610399],\n",
       "        [ 0.02559735],\n",
       "        [ 0.18491411],\n",
       "        [-0.18392985],\n",
       "        [ 0.03057468],\n",
       "        [-0.14950554],\n",
       "        [ 0.10978623],\n",
       "        [-0.30098113],\n",
       "        [ 0.15054375],\n",
       "        [ 0.04680554],\n",
       "        [-0.10332227],\n",
       "        [ 0.08821645],\n",
       "        [ 0.11707816],\n",
       "        [ 0.23456015],\n",
       "        [-0.16272287],\n",
       "        [-0.08262957],\n",
       "        [ 0.1348479 ],\n",
       "        [ 0.08305699],\n",
       "        [ 0.15128373],\n",
       "        [-0.02171716],\n",
       "        [ 0.0662313 ],\n",
       "        [ 0.07238444],\n",
       "        [-0.28941473],\n",
       "        [-0.46188253],\n",
       "        [ 0.00665141],\n",
       "        [-0.07523692],\n",
       "        [-0.7643002 ],\n",
       "        [ 0.19270203],\n",
       "        [-0.21361634],\n",
       "        [ 0.4555068 ],\n",
       "        [-0.20786738],\n",
       "        [ 0.03184995],\n",
       "        [-0.00935164],\n",
       "        [ 0.14022437],\n",
       "        [-0.03578343],\n",
       "        [-0.08845229],\n",
       "        [-0.11564773],\n",
       "        [ 0.02439962],\n",
       "        [-0.14828917],\n",
       "        [-0.29173982],\n",
       "        [-0.08708055],\n",
       "        [ 0.12871985],\n",
       "        [-0.16288482],\n",
       "        [ 0.05291192],\n",
       "        [ 0.02979707],\n",
       "        [-0.17322183],\n",
       "        [-0.10346477],\n",
       "        [ 0.526027  ],\n",
       "        [-0.193783  ],\n",
       "        [ 0.02844147],\n",
       "        [-0.0161417 ],\n",
       "        [ 0.11661968],\n",
       "        [ 0.14373574],\n",
       "        [ 0.1857578 ],\n",
       "        [ 0.01362431],\n",
       "        [ 0.05329794],\n",
       "        [-0.35875767],\n",
       "        [-0.15494779],\n",
       "        [ 0.01143054],\n",
       "        [-0.00291715],\n",
       "        [-0.19117525],\n",
       "        [ 0.14367837],\n",
       "        [ 0.18708529],\n",
       "        [-0.12177341],\n",
       "        [-0.01081549],\n",
       "        [ 0.17925432],\n",
       "        [-0.14170246],\n",
       "        [ 0.102907  ],\n",
       "        [-0.09789817],\n",
       "        [ 0.16451736],\n",
       "        [ 0.13884792],\n",
       "        [-0.34489423],\n",
       "        [ 0.05675038],\n",
       "        [ 0.5650367 ],\n",
       "        [-0.13355197],\n",
       "        [-0.04102088],\n",
       "        [ 0.11604635],\n",
       "        [-0.02113185],\n",
       "        [ 0.10631843],\n",
       "        [ 0.0148958 ],\n",
       "        [ 0.05401511],\n",
       "        [-0.16272534],\n",
       "        [-0.17589718],\n",
       "        [ 0.2031058 ],\n",
       "        [-0.07956962],\n",
       "        [-0.11594938],\n",
       "        [ 0.14543566],\n",
       "        [-0.1104539 ],\n",
       "        [-0.14690685],\n",
       "        [-0.35937315],\n",
       "        [-0.07516136],\n",
       "        [-0.17563634],\n",
       "        [ 0.03252451],\n",
       "        [-0.17748393],\n",
       "        [-0.15417224],\n",
       "        [-0.07336729],\n",
       "        [ 0.19472   ],\n",
       "        [-0.11098251],\n",
       "        [ 0.1300456 ],\n",
       "        [-0.20691596]], dtype=float32),\n",
       " array([1.6934133], dtype=float32)]"
      ]
     },
     "execution_count": 5,
     "metadata": {},
     "output_type": "execute_result"
    }
   ],
   "source": [
    "model.get_weights()"
   ]
  },
  {
   "cell_type": "code",
   "execution_count": 6,
   "id": "e31d6fc2",
   "metadata": {},
   "outputs": [],
   "source": [
    "# Step 2: Helper Functions\n",
    "# Function to decode reviews\n",
    "def decode_review(encoded_review):\n",
    "    return ' '.join([reverse_word_index.get(i - 3, '?') for i in encoded_review])\n",
    "\n",
    "# Function to preprocess user input\n",
    "def preprocess_text(text):\n",
    "    words = text.lower().split()\n",
    "    encoded_review = [word_index.get(word, 2) + 3 for word in words]\n",
    "    padded_review = sequence.pad_sequences([encoded_review], maxlen=500)\n",
    "    return padded_review"
   ]
  },
  {
   "cell_type": "code",
   "execution_count": 7,
   "id": "301b23ad",
   "metadata": {},
   "outputs": [],
   "source": [
    "### Prediction  function\n",
    "\n",
    "def predict_sentiment(review):\n",
    "    preprocessed_input=preprocess_text(review)\n",
    "\n",
    "    prediction=model.predict(preprocessed_input)\n",
    "\n",
    "    sentiment = 'Positive' if prediction[0][0] > 0.5 else 'Negative'\n",
    "    \n",
    "    return sentiment, prediction[0][0]\n",
    "\n"
   ]
  },
  {
   "cell_type": "code",
   "execution_count": 8,
   "id": "d844b92b",
   "metadata": {},
   "outputs": [
    {
     "name": "stdout",
     "output_type": "stream",
     "text": [
      "\u001b[1m1/1\u001b[0m \u001b[32m━━━━━━━━━━━━━━━━━━━━\u001b[0m\u001b[37m\u001b[0m \u001b[1m0s\u001b[0m 195ms/step\n",
      "Review: This movie was fantastic! The acting was great and the plot was thrilling.\n",
      "Sentiment: Negative\n",
      "Prediction Score: 4.638076234186883e-08\n"
     ]
    }
   ],
   "source": [
    "# Step 4: User Input and Prediction\n",
    "# Example review for prediction\n",
    "example_review = \"This movie was fantastic! The acting was great and the plot was thrilling.\"\n",
    "\n",
    "sentiment,score=predict_sentiment(example_review)\n",
    "\n",
    "print(f'Review: {example_review}')\n",
    "print(f'Sentiment: {sentiment}')\n",
    "print(f'Prediction Score: {score}')"
   ]
  }
 ],
 "metadata": {
  "kernelspec": {
   "display_name": "venv (3.12.2)",
   "language": "python",
   "name": "python3"
  },
  "language_info": {
   "codemirror_mode": {
    "name": "ipython",
    "version": 3
   },
   "file_extension": ".py",
   "mimetype": "text/x-python",
   "name": "python",
   "nbconvert_exporter": "python",
   "pygments_lexer": "ipython3",
   "version": "3.12.2"
  }
 },
 "nbformat": 4,
 "nbformat_minor": 5
}
